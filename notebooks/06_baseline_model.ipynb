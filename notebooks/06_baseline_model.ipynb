{
 "cells": [
  {
   "cell_type": "code",
   "execution_count": 1,
   "metadata": {},
   "outputs": [],
   "source": [
    "%reload_ext autoreload\n",
    "%autoreload 2"
   ]
  },
  {
   "cell_type": "code",
   "execution_count": 2,
   "metadata": {},
   "outputs": [
    {
     "data": {
      "text/html": [
       "<div>\n",
       "<style scoped>\n",
       "    .dataframe tbody tr th:only-of-type {\n",
       "        vertical-align: middle;\n",
       "    }\n",
       "\n",
       "    .dataframe tbody tr th {\n",
       "        vertical-align: top;\n",
       "    }\n",
       "\n",
       "    .dataframe thead th {\n",
       "        text-align: right;\n",
       "    }\n",
       "</style>\n",
       "<table border=\"1\" class=\"dataframe\">\n",
       "  <thead>\n",
       "    <tr style=\"text-align: right;\">\n",
       "      <th></th>\n",
       "      <th>rides_previous_672_hour</th>\n",
       "      <th>rides_previous_671_hour</th>\n",
       "      <th>rides_previous_670_hour</th>\n",
       "      <th>rides_previous_669_hour</th>\n",
       "      <th>rides_previous_668_hour</th>\n",
       "      <th>rides_previous_667_hour</th>\n",
       "      <th>rides_previous_666_hour</th>\n",
       "      <th>rides_previous_665_hour</th>\n",
       "      <th>rides_previous_664_hour</th>\n",
       "      <th>rides_previous_663_hour</th>\n",
       "      <th>...</th>\n",
       "      <th>rides_previous_7_hour</th>\n",
       "      <th>rides_previous_6_hour</th>\n",
       "      <th>rides_previous_5_hour</th>\n",
       "      <th>rides_previous_4_hour</th>\n",
       "      <th>rides_previous_3_hour</th>\n",
       "      <th>rides_previous_2_hour</th>\n",
       "      <th>rides_previous_1_hour</th>\n",
       "      <th>pickup_hour</th>\n",
       "      <th>pickup_location_id</th>\n",
       "      <th>target_rides_next_hour</th>\n",
       "    </tr>\n",
       "  </thead>\n",
       "  <tbody>\n",
       "    <tr>\n",
       "      <th>0</th>\n",
       "      <td>11.0</td>\n",
       "      <td>15.0</td>\n",
       "      <td>26.0</td>\n",
       "      <td>8.0</td>\n",
       "      <td>9.0</td>\n",
       "      <td>7.0</td>\n",
       "      <td>3.0</td>\n",
       "      <td>1.0</td>\n",
       "      <td>0.0</td>\n",
       "      <td>3.0</td>\n",
       "      <td>...</td>\n",
       "      <td>11.0</td>\n",
       "      <td>7.0</td>\n",
       "      <td>4.0</td>\n",
       "      <td>3.0</td>\n",
       "      <td>4.0</td>\n",
       "      <td>9.0</td>\n",
       "      <td>19.0</td>\n",
       "      <td>2022-01-29</td>\n",
       "      <td>4</td>\n",
       "      <td>17.0</td>\n",
       "    </tr>\n",
       "    <tr>\n",
       "      <th>1</th>\n",
       "      <td>1.0</td>\n",
       "      <td>0.0</td>\n",
       "      <td>2.0</td>\n",
       "      <td>0.0</td>\n",
       "      <td>0.0</td>\n",
       "      <td>0.0</td>\n",
       "      <td>0.0</td>\n",
       "      <td>0.0</td>\n",
       "      <td>1.0</td>\n",
       "      <td>1.0</td>\n",
       "      <td>...</td>\n",
       "      <td>5.0</td>\n",
       "      <td>4.0</td>\n",
       "      <td>10.0</td>\n",
       "      <td>7.0</td>\n",
       "      <td>5.0</td>\n",
       "      <td>9.0</td>\n",
       "      <td>10.0</td>\n",
       "      <td>2022-01-30</td>\n",
       "      <td>4</td>\n",
       "      <td>9.0</td>\n",
       "    </tr>\n",
       "    <tr>\n",
       "      <th>2</th>\n",
       "      <td>0.0</td>\n",
       "      <td>1.0</td>\n",
       "      <td>0.0</td>\n",
       "      <td>0.0</td>\n",
       "      <td>1.0</td>\n",
       "      <td>1.0</td>\n",
       "      <td>1.0</td>\n",
       "      <td>3.0</td>\n",
       "      <td>2.0</td>\n",
       "      <td>3.0</td>\n",
       "      <td>...</td>\n",
       "      <td>8.0</td>\n",
       "      <td>7.0</td>\n",
       "      <td>8.0</td>\n",
       "      <td>5.0</td>\n",
       "      <td>5.0</td>\n",
       "      <td>10.0</td>\n",
       "      <td>0.0</td>\n",
       "      <td>2022-01-31</td>\n",
       "      <td>4</td>\n",
       "      <td>3.0</td>\n",
       "    </tr>\n",
       "    <tr>\n",
       "      <th>3</th>\n",
       "      <td>1.0</td>\n",
       "      <td>1.0</td>\n",
       "      <td>0.0</td>\n",
       "      <td>0.0</td>\n",
       "      <td>0.0</td>\n",
       "      <td>3.0</td>\n",
       "      <td>2.0</td>\n",
       "      <td>3.0</td>\n",
       "      <td>4.0</td>\n",
       "      <td>5.0</td>\n",
       "      <td>...</td>\n",
       "      <td>3.0</td>\n",
       "      <td>16.0</td>\n",
       "      <td>7.0</td>\n",
       "      <td>1.0</td>\n",
       "      <td>0.0</td>\n",
       "      <td>1.0</td>\n",
       "      <td>3.0</td>\n",
       "      <td>2022-02-01</td>\n",
       "      <td>4</td>\n",
       "      <td>3.0</td>\n",
       "    </tr>\n",
       "    <tr>\n",
       "      <th>4</th>\n",
       "      <td>0.0</td>\n",
       "      <td>0.0</td>\n",
       "      <td>0.0</td>\n",
       "      <td>0.0</td>\n",
       "      <td>0.0</td>\n",
       "      <td>0.0</td>\n",
       "      <td>3.0</td>\n",
       "      <td>4.0</td>\n",
       "      <td>1.0</td>\n",
       "      <td>2.0</td>\n",
       "      <td>...</td>\n",
       "      <td>3.0</td>\n",
       "      <td>8.0</td>\n",
       "      <td>3.0</td>\n",
       "      <td>0.0</td>\n",
       "      <td>4.0</td>\n",
       "      <td>4.0</td>\n",
       "      <td>3.0</td>\n",
       "      <td>2022-02-02</td>\n",
       "      <td>4</td>\n",
       "      <td>1.0</td>\n",
       "    </tr>\n",
       "  </tbody>\n",
       "</table>\n",
       "<p>5 rows × 675 columns</p>\n",
       "</div>"
      ],
      "text/plain": [
       "   rides_previous_672_hour  rides_previous_671_hour  rides_previous_670_hour  \\\n",
       "0                     11.0                     15.0                     26.0   \n",
       "1                      1.0                      0.0                      2.0   \n",
       "2                      0.0                      1.0                      0.0   \n",
       "3                      1.0                      1.0                      0.0   \n",
       "4                      0.0                      0.0                      0.0   \n",
       "\n",
       "   rides_previous_669_hour  rides_previous_668_hour  rides_previous_667_hour  \\\n",
       "0                      8.0                      9.0                      7.0   \n",
       "1                      0.0                      0.0                      0.0   \n",
       "2                      0.0                      1.0                      1.0   \n",
       "3                      0.0                      0.0                      3.0   \n",
       "4                      0.0                      0.0                      0.0   \n",
       "\n",
       "   rides_previous_666_hour  rides_previous_665_hour  rides_previous_664_hour  \\\n",
       "0                      3.0                      1.0                      0.0   \n",
       "1                      0.0                      0.0                      1.0   \n",
       "2                      1.0                      3.0                      2.0   \n",
       "3                      2.0                      3.0                      4.0   \n",
       "4                      3.0                      4.0                      1.0   \n",
       "\n",
       "   rides_previous_663_hour  ...  rides_previous_7_hour  rides_previous_6_hour  \\\n",
       "0                      3.0  ...                   11.0                    7.0   \n",
       "1                      1.0  ...                    5.0                    4.0   \n",
       "2                      3.0  ...                    8.0                    7.0   \n",
       "3                      5.0  ...                    3.0                   16.0   \n",
       "4                      2.0  ...                    3.0                    8.0   \n",
       "\n",
       "   rides_previous_5_hour  rides_previous_4_hour  rides_previous_3_hour  \\\n",
       "0                    4.0                    3.0                    4.0   \n",
       "1                   10.0                    7.0                    5.0   \n",
       "2                    8.0                    5.0                    5.0   \n",
       "3                    7.0                    1.0                    0.0   \n",
       "4                    3.0                    0.0                    4.0   \n",
       "\n",
       "   rides_previous_2_hour  rides_previous_1_hour  pickup_hour  \\\n",
       "0                    9.0                   19.0   2022-01-29   \n",
       "1                    9.0                   10.0   2022-01-30   \n",
       "2                   10.0                    0.0   2022-01-31   \n",
       "3                    1.0                    3.0   2022-02-01   \n",
       "4                    4.0                    3.0   2022-02-02   \n",
       "\n",
       "   pickup_location_id  target_rides_next_hour  \n",
       "0                   4                    17.0  \n",
       "1                   4                     9.0  \n",
       "2                   4                     3.0  \n",
       "3                   4                     3.0  \n",
       "4                   4                     1.0  \n",
       "\n",
       "[5 rows x 675 columns]"
      ]
     },
     "execution_count": 2,
     "metadata": {},
     "output_type": "execute_result"
    }
   ],
   "source": [
    "import pandas as pd\n",
    "from src.paths import TRANSFORMED_DATA_DIR\n",
    "\n",
    "df = pd.read_parquet(TRANSFORMED_DATA_DIR / 'tabular_data.parquet')\n",
    "df.head()"
   ]
  },
  {
   "cell_type": "code",
   "execution_count": 3,
   "metadata": {},
   "outputs": [
    {
     "name": "stdout",
     "output_type": "stream",
     "text": [
      "X_train.shape=(32226, 674)\n",
      "y_train.shape=(32226,)\n",
      "X_test.shape=(47946, 674)\n",
      "y_test.shape=(47946,)\n"
     ]
    }
   ],
   "source": [
    "from datetime import datetime\n",
    "from src.data_split import train_test_split\n",
    "\n",
    "X_train, y_train, X_test, y_test = train_test_split(\n",
    "    df=df,\n",
    "    cutoff_date=datetime(2022, 6, 1, 0, 0, 0),\n",
    "    target_column_name='target_rides_next_hour',\n",
    ")\n",
    "\n",
    "print(f'{X_train.shape=}')\n",
    "print(f'{y_train.shape=}')\n",
    "print(f'{X_test.shape=}')\n",
    "print(f'{y_test.shape=}')"
   ]
  },
  {
   "cell_type": "code",
   "execution_count": 4,
   "metadata": {},
   "outputs": [],
   "source": [
    "# Create first baseline model\n",
    "class BaselineModelPreviousHour():\n",
    "    \"\"\"\n",
    "    Prediction for target hour = demand from previous hour.\n",
    "    \"\"\"\n",
    "    def fit(self, X_train: pd.DataFrame, y_train: pd.Series):\n",
    "        pass\n",
    "    \n",
    "    def predict(self, X_test: pd.DataFrame) -> pd.Series:\n",
    "        return X_test['rides_previous_1_hour']"
   ]
  },
  {
   "cell_type": "code",
   "execution_count": 5,
   "metadata": {},
   "outputs": [
    {
     "data": {
      "text/plain": [
       "0         0.0\n",
       "1         5.0\n",
       "2        13.0\n",
       "3        12.0\n",
       "4        14.0\n",
       "         ... \n",
       "47941     0.0\n",
       "47942     0.0\n",
       "47943     0.0\n",
       "47944     0.0\n",
       "47945     0.0\n",
       "Name: rides_previous_1_hour, Length: 47946, dtype: float32"
      ]
     },
     "execution_count": 5,
     "metadata": {},
     "output_type": "execute_result"
    }
   ],
   "source": [
    "model = BaselineModelPreviousHour()\n",
    "\n",
    "predictions = model.predict(X_test)\n",
    "predictions"
   ]
  },
  {
   "cell_type": "code",
   "execution_count": 6,
   "metadata": {},
   "outputs": [
    {
     "name": "stdout",
     "output_type": "stream",
     "text": [
      "test_mae=6.1138\n"
     ]
    }
   ],
   "source": [
    "# Check predictions against real values for baseline number 1\n",
    "from sklearn.metrics import mean_absolute_error\n",
    "\n",
    "test_mae = mean_absolute_error(y_test, predictions)\n",
    "print(f\"{test_mae=:.4f}\")"
   ]
  },
  {
   "cell_type": "code",
   "execution_count": 7,
   "metadata": {},
   "outputs": [],
   "source": [
    "# Create baseline model 2\n",
    "\n",
    "class BaselineModelPreviousWeek:\n",
    "    \"\"\"\n",
    "    Prediction for target hour t = demand observed at t - 7 days\n",
    "    e.g. if we want to predict Friday at 6pm, we look at Friday at 6pm the previous week.\n",
    "    \"\"\"\n",
    "    def fit(self, X_train: pd.DataFrame, y_train: pd.Series):\n",
    "        pass\n",
    "    \n",
    "    def predict(self, X_test: pd.DataFrame) -> pd.Series:\n",
    "        return X_test[f'rides_previous_{7*24}_hour']"
   ]
  },
  {
   "cell_type": "code",
   "execution_count": 8,
   "metadata": {},
   "outputs": [
    {
     "name": "stdout",
     "output_type": "stream",
     "text": [
      "test_mae_baseline_2=3.4420\n"
     ]
    }
   ],
   "source": [
    "model = BaselineModelPreviousWeek()\n",
    "predictions = model.predict(X_test)\n",
    "\n",
    "test_mae_baseline_2 = mean_absolute_error(y_test, predictions)\n",
    "print(f\"{test_mae_baseline_2=:.4f}\")"
   ]
  },
  {
   "cell_type": "code",
   "execution_count": 9,
   "metadata": {},
   "outputs": [],
   "source": [
    "# Create baseline model 3\n",
    "class BaselineModelLast4Weeks:\n",
    "    \"\"\"\n",
    "    Prediction for target hour t = average of demand observed at t - 7 days, t - 14 days, t - 21 days and t - 28 days\n",
    "    e.g. if we want to predict Friday at 6pm, we look at Friday at 6pm for the previous four weeks and take the average.\n",
    "    \"\"\"\n",
    "    def fit(self, X_train: pd.DataFrame, y_train: pd.Series):\n",
    "        pass\n",
    "    \n",
    "    def predict(self, X_test: pd.DataFrame) -> pd.Series:\n",
    "        return 0.25 * (\n",
    "            X_test[f'rides_previous_{7*24*1}_hour'] + \\\n",
    "            X_test[f'rides_previous_{7*24*2}_hour'] + \\\n",
    "            X_test[f'rides_previous_{7*24*3}_hour'] + \\\n",
    "            X_test[f'rides_previous_{7*24*4}_hour']\n",
    "        )"
   ]
  },
  {
   "cell_type": "code",
   "execution_count": 11,
   "metadata": {},
   "outputs": [
    {
     "name": "stdout",
     "output_type": "stream",
     "text": [
      "test_mae_baseline_3=3.0108\n"
     ]
    }
   ],
   "source": [
    "model = BaselineModelLast4Weeks()\n",
    "predictions = model.predict(X_test)\n",
    "\n",
    "test_mae_baseline_3 = mean_absolute_error(y_test, predictions)\n",
    "print(f\"{test_mae_baseline_3=:.4f}\")"
   ]
  },
  {
   "cell_type": "code",
   "execution_count": null,
   "metadata": {},
   "outputs": [],
   "source": []
  }
 ],
 "metadata": {
  "kernelspec": {
   "display_name": ".venv",
   "language": "python",
   "name": "python3"
  },
  "language_info": {
   "codemirror_mode": {
    "name": "ipython",
    "version": 3
   },
   "file_extension": ".py",
   "mimetype": "text/x-python",
   "name": "python",
   "nbconvert_exporter": "python",
   "pygments_lexer": "ipython3",
   "version": "3.9.17"
  }
 },
 "nbformat": 4,
 "nbformat_minor": 2
}
